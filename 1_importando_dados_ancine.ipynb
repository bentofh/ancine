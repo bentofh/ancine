{
 "cells": [
  {
   "cell_type": "markdown",
   "metadata": {},
   "source": [
    "# Importando os dados de bilheteria na ANCINE\n",
    "\n",
    "A [ANCINE](https://www.gov.br/ancine/pt-br/oca/dados-abertos) (Agência Nacional do Cinema) disponibiliza em seu portal de dados públicos os valores diários das bilheterias de todos os cinemas do Brasil."
   ]
  },
  {
   "cell_type": "markdown",
   "metadata": {},
   "source": [
    "## Preparação dos arquivos"
   ]
  },
  {
   "cell_type": "code",
   "execution_count": 52,
   "metadata": {},
   "outputs": [],
   "source": [
    "# Bibliotecas necessárias\n",
    "\n",
    "import pandas as pd\n",
    "import zipfile \n",
    "import requests, io, os\n",
    "import glob"
   ]
  },
  {
   "cell_type": "code",
   "execution_count": 42,
   "metadata": {},
   "outputs": [],
   "source": [
    "# Link com os dados que quero analisar referente aos filmes exibidos no Brasil\n",
    "\n",
    "link_zip = 'https://dados.ancine.gov.br/dados-abertos/BilheteriaObrasDia.zip'"
   ]
  },
  {
   "cell_type": "code",
   "execution_count": 53,
   "metadata": {},
   "outputs": [],
   "source": [
    "# Definindo o caminho onde os arquivos serão salvos\n",
    "\n",
    "pasta = '/Users/bentofh/Documents/GitHub/ancine/Bilheteria/'"
   ]
  },
  {
   "cell_type": "code",
   "execution_count": 43,
   "metadata": {},
   "outputs": [],
   "source": [
    "# Baixando o arquivo .zip e extraindo os arquivos .csv\n",
    "\n",
    "getfolder = requests.get(link_zip)\n",
    "unzipfolder = zipfile.ZipFile(io.BytesIO(getfolder.content))\n",
    "unzipfolder.extractall(pasta)\n",
    "os.chdir(pasta)\n",
    "csv_files = [f for f in os.listdir() if f.endswith('.csv')]"
   ]
  },
  {
   "cell_type": "code",
   "execution_count": 44,
   "metadata": {},
   "outputs": [],
   "source": [
    "# Transformando os arquivos em parquet\n",
    "\n",
    "anos = range(2014, 2024)\n",
    "\n",
    "for ano in anos:\n",
    "    arquivo_csv = os.path.join(pasta, f'BilheteriaObrasDia_{ano}.csv')\n",
    "    if os.path.isfile(arquivo_csv):\n",
    "        try:\n",
    "            df = pd.read_csv(arquivo_csv, encoding='utf8', delimiter=';')\n",
    "        except UnicodeDecodeError:\n",
    "            df = pd.read_csv(arquivo_csv, encoding='ISO-8859-1', delimiter=';')\n",
    "    arquivo_parquet = os.path.join(pasta, f'BilheteriaObrasDia_{ano}.parquet')\n",
    "    df.to_parquet(arquivo_parquet)"
   ]
  },
  {
   "cell_type": "code",
   "execution_count": 45,
   "metadata": {},
   "outputs": [],
   "source": [
    "# Apagar os arquivos .csv\n",
    "    \n",
    "arquivos_csv = glob.glob(os.path.join(pasta, '*.csv'))\n",
    "\n",
    "for arquivo in arquivos_csv:\n",
    "    os.remove(arquivo)"
   ]
  },
  {
   "cell_type": "code",
   "execution_count": 82,
   "metadata": {},
   "outputs": [],
   "source": [
    "# Lista para armazenar os dataframes\n",
    "dataframes = []\n",
    "\n",
    "ano_min_analise = 2014\n",
    "ano_max_analise = 2024\n",
    "\n",
    "# Itera sobre os arquivos na pasta\n",
    "for ano in range(ano_min_analise, ano_max_analise):\n",
    "    arquivo = os.path.join(pasta, f'BilheteriaObrasDia_{ano}.parquet')\n",
    "    df = pd.read_parquet(arquivo)\n",
    "    dataframes.append(df)\n",
    "\n",
    "# Combina todos os dataframes em um único\n",
    "df_total = pd.concat(dataframes, ignore_index=True)"
   ]
  },
  {
   "cell_type": "code",
   "execution_count": 84,
   "metadata": {},
   "outputs": [],
   "source": [
    "# Gerando uma amostra \n",
    "df_amostra = df_total.sample(n=10000)\n",
    "\n",
    "# Salva a amostra em parquet\n",
    "df_amostra.to_parquet(os.path.join(pasta,r'BrilheteriaAmostra.parquet'))\n",
    "\n",
    "# Salva a amostra em csv\n",
    "df_amostra.to_csv(os.path.join(pasta,r'BrilheteriaAmostra.csv'), index=False)"
   ]
  }
 ],
 "metadata": {
  "kernelspec": {
   "display_name": "py_ancine",
   "language": "python",
   "name": "python3"
  },
  "language_info": {
   "codemirror_mode": {
    "name": "ipython",
    "version": 3
   },
   "file_extension": ".py",
   "mimetype": "text/x-python",
   "name": "python",
   "nbconvert_exporter": "python",
   "pygments_lexer": "ipython3",
   "version": "3.11.4"
  }
 },
 "nbformat": 4,
 "nbformat_minor": 2
}
