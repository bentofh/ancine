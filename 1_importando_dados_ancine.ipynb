{
 "cells": [
  {
   "cell_type": "code",
   "execution_count": 52,
   "metadata": {},
   "outputs": [],
   "source": [
    "# Bibliotecas necessárias\n",
    "\n",
    "import pandas as pd\n",
    "import zipfile \n",
    "import requests, io, os\n",
    "import glob"
   ]
  },
  {
   "cell_type": "code",
   "execution_count": 42,
   "metadata": {},
   "outputs": [],
   "source": [
    "# Link com os dados que quero analisar referente aos filmes exibidos no Brasil\n",
    "\n",
    "link_zip = 'https://dados.ancine.gov.br/dados-abertos/BilheteriaObrasDia.zip'"
   ]
  },
  {
   "cell_type": "code",
   "execution_count": 53,
   "metadata": {},
   "outputs": [],
   "source": [
    "# Definindo o caminho onde os arquivos serão salvos\n",
    "\n",
    "pasta = '/Users/bentofh/Documents/GitHub/ancine/arquivos_parquet/'"
   ]
  },
  {
   "cell_type": "code",
   "execution_count": 43,
   "metadata": {},
   "outputs": [],
   "source": [
    "# Baixando o arquivo .zip e extraindo os arquivos .csv\n",
    "\n",
    "getfolder = requests.get(link_zip)\n",
    "unzipfolder = zipfile.ZipFile(io.BytesIO(getfolder.content))\n",
    "unzipfolder.extractall(pasta)\n",
    "os.chdir(pasta)\n",
    "csv_files = [f for f in os.listdir() if f.endswith('.csv')]"
   ]
  },
  {
   "cell_type": "code",
   "execution_count": 44,
   "metadata": {},
   "outputs": [],
   "source": [
    "# Transformando os arquivos em parquet\n",
    "\n",
    "anos = range(2014, 2024)\n",
    "\n",
    "for ano in anos:\n",
    "    arquivo_csv = os.path.join(pasta, f'BilheteriaObrasDia_{ano}.csv')\n",
    "    if os.path.isfile(arquivo_csv):\n",
    "        try:\n",
    "            df = pd.read_csv(arquivo_csv, encoding='utf8', delimiter=';')\n",
    "        except UnicodeDecodeError:\n",
    "            df = pd.read_csv(arquivo_csv, encoding='ISO-8859-1', delimiter=';')\n",
    "    arquivo_parquet = os.path.join(pasta, f'BilheteriaObrasDia_{ano}.parquet')\n",
    "    df.to_parquet(arquivo_parquet)"
   ]
  },
  {
   "cell_type": "code",
   "execution_count": 45,
   "metadata": {},
   "outputs": [],
   "source": [
    "# Apagar os arquivos .csv\n",
    "    \n",
    "arquivos_csv = glob.glob(os.path.join(pasta, '*.csv'))\n",
    "\n",
    "for arquivo in arquivos_csv:\n",
    "    os.remove(arquivo)"
   ]
  },
  {
   "cell_type": "code",
   "execution_count": 57,
   "metadata": {},
   "outputs": [],
   "source": [
    "# Lista para armazenar os dataframes\n",
    "dataframes = []\n",
    "\n",
    "# Itera sobre os arquivos na pasta\n",
    "for ano in range(2014, 2024):\n",
    "    arquivo = os.path.join(pasta, f'BilheteriaObrasDia_{ano}.parquet')\n",
    "    df = pd.read_parquet(arquivo)\n",
    "    dataframes.append(df)"
   ]
  },
  {
   "cell_type": "code",
   "execution_count": 73,
   "metadata": {},
   "outputs": [],
   "source": [
    "# Combina todos os dataframes em um único\n",
    "df_total = pd.concat(dataframes, ignore_index=True)\n",
    "\n",
    "# Filtra por cidade\n",
    "df_londrina = df_total[df_total['MUNICIPIO_COMPLEXO'] == 'LONDRINA']\n",
    "\n",
    "# Salva o dataframe filtrado em parquet\n",
    "df_londrina.to_parquet(os.path.join(pasta,r'Bilheteria_Londrina.parquet'))\n",
    "\n",
    "# Se quiser gerar o arquivo csv\n",
    "# df_londrina.to_csv(os.path.join(pasta,r'Bilheteria_Londrina.csv'), index=False)"
   ]
  }
 ],
 "metadata": {
  "kernelspec": {
   "display_name": "py_ancine",
   "language": "python",
   "name": "python3"
  },
  "language_info": {
   "codemirror_mode": {
    "name": "ipython",
    "version": 3
   },
   "file_extension": ".py",
   "mimetype": "text/x-python",
   "name": "python",
   "nbconvert_exporter": "python",
   "pygments_lexer": "ipython3",
   "version": "3.11.4"
  }
 },
 "nbformat": 4,
 "nbformat_minor": 2
}
