{
 "cells": [
  {
   "cell_type": "markdown",
   "metadata": {},
   "source": [
    "# Busca por gênero de filmes no IMDB\n",
    "\n",
    "O IMDB é uma plataforma dedicada a informações sobre filmes e séries de tv, e disponibiliza alguns [datasets](https://developer.imdb.com/non-commercial-datasets/) para uso não comercial em seu site. "
   ]
  },
  {
   "cell_type": "markdown",
   "metadata": {},
   "source": [
    "## Preparando os arquivos"
   ]
  },
  {
   "cell_type": "code",
   "execution_count": 1,
   "metadata": {},
   "outputs": [],
   "source": [
    "import pandas as pd\n",
    "import requests\n",
    "import os\n",
    "import gzip\n",
    "import shutil"
   ]
  },
  {
   "cell_type": "code",
   "execution_count": 2,
   "metadata": {},
   "outputs": [],
   "source": [
    "# URL do arquivo .gz\n",
    "url = 'https://datasets.imdbws.com/title.basics.tsv.gz'\n",
    "\n",
    "# Caminho onde os arquivos deverão ser salvos\n",
    "pasta = '/Users/bentofh/Documents/GitHub/ancine/IMDB'"
   ]
  },
  {
   "cell_type": "code",
   "execution_count": 3,
   "metadata": {},
   "outputs": [],
   "source": [
    "# Definir as variáveis necessárias\n",
    "caminho_arquivo_gz = os.path.join(pasta, 'title.basics.tsv.gz')\n",
    "caminho_arquivo_tsv = os.path.join(pasta, 'title.basics.tsv')\n",
    "caminho_arquivo_parquet = os.path.join(pasta, 'imdb.parquet')\n",
    "\n",
    "# Baixar o arquivo .gz\n",
    "response = requests.get(url, stream=True)\n",
    "with open(caminho_arquivo_gz, 'wb') as f:\n",
    "    f.write(response.content)\n",
    "\n",
    "# Extrair o arquivo .tsv\n",
    "with gzip.open(caminho_arquivo_gz, 'rb') as f_in:\n",
    "    with open(caminho_arquivo_tsv, 'wb') as f_out:\n",
    "        shutil.copyfileobj(f_in, f_out)\n",
    "\n",
    "# Remover o arquivo .gz\n",
    "os.remove(caminho_arquivo_gz)\n",
    "\n",
    "# Ler o arquivo .tsv em um DataFrame\n",
    "df_imdb = pd.read_csv(caminho_arquivo_tsv, delimiter='\\t', low_memory=False)\n",
    "\n",
    "# Filtrar os filmes lançados a partir de 2010\n",
    "# Certifique-se de que 'startYear' é uma coluna numérica ou converta-a\n",
    "df_imdb['startYear'] = pd.to_numeric(df_imdb['startYear'], errors='coerce')\n",
    "df_imdb = df_imdb[df_imdb['startYear'] >= 2013]\n",
    "\n",
    "# Manter apenas as colunas originalTitle e genres\n",
    "df_imdb = df_imdb[['originalTitle', 'genres']]\n",
    "\n",
    "# Manter apenas o primeiro gênero na coluna genres\n",
    "df_imdb['genres'] = df_imdb['genres'].apply(lambda x: x.split(',')[0] if pd.notnull(x) and ',' in x else x)\n",
    "\n",
    "# Salvar o DataFrame como um arquivo Parquet\n",
    "df_imdb.to_parquet(caminho_arquivo_parquet)\n",
    "\n",
    "# Remover o arquivo .tsv se não for mais necessário\n",
    "os.remove(caminho_arquivo_tsv)\n",
    "\n",
    "# Limpar o df utilizado para o trabalho\n",
    "del df_imdb"
   ]
  }
 ],
 "metadata": {
  "kernelspec": {
   "display_name": "py_ancine",
   "language": "python",
   "name": "python3"
  },
  "language_info": {
   "codemirror_mode": {
    "name": "ipython",
    "version": 3
   },
   "file_extension": ".py",
   "mimetype": "text/x-python",
   "name": "python",
   "nbconvert_exporter": "python",
   "pygments_lexer": "ipython3",
   "version": "3.11.4"
  }
 },
 "nbformat": 4,
 "nbformat_minor": 2
}
